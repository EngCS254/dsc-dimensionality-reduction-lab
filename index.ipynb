{
 "cells": [
  {
   "cell_type": "markdown",
   "metadata": {},
   "source": [
    "# Dimensionality Reduction - Cumulative Lab\n",
    "\n",
    "## Introduction\n",
    "\n",
    "In this cumulative lab, you'll apply dimensionality reduction as a preprocessing step in a machine learning workflow.\n",
    "\n",
    "## Objectives\n",
    "\n",
    "You will be able to: \n",
    "\n",
    "- Practice performing PCA using the scikit-learn library\n",
    "- Interpret the amount of variance captured by a given number of PCA components\n",
    "- Evaluate model performance with and without dimensionality reduction\n",
    "- Plot the decision boundary of classification experiments to visually inspect their performance "
   ]
  },
  {
   "cell_type": "markdown",
   "metadata": {},
   "source": [
    "## Your Task: Reduce the Dimensionality of the Iris Dataset as Part of a Machine Learning Workflow\n",
    "\n",
    "![irises](iris.jpg)\n",
    "\n",
    "<span>Photo by <a href=\"https://unsplash.com/@yoksel?utm_source=unsplash&amp;utm_medium=referral&amp;utm_content=creditCopyText\">Yoksel 🌿 Zok</a> on <a href=\"https://unsplash.com/s/photos/iris?utm_source=unsplash&amp;utm_medium=referral&amp;utm_content=creditCopyText\">Unsplash</a></span>"
   ]
  },
  {
   "cell_type": "markdown",
   "metadata": {},
   "source": [
    "### Dimensionality Reduction in ML\n",
    "\n",
    "While it is possible to use dimensionality reduction as a standalone analysis technique, you will frequently see it used as a preprocessing step in a predictive machine learning workflow.\n",
    "\n",
    "The two main reasons to use dimensionality reduction in machine learning are:\n",
    "\n",
    "1. **Reducing computational complexity:** Often the internal logic of a machine learning algorithm means that the complexity increases by an order of magnitude with every additional dimension (feature). So maybe there are {n^2} operations for 2 features, {n^4} operations for 4 features, etc. If we can reduce the number of dimensions (features) prior to fitting/predicting with the model, the model will be faster and use fewer computational resources (memory, processing power, etc.)\n",
    "2. **Improving model performance:** In some cases even if we had unlimited computational capacity, our models would still struggle to fit on data with too many dimensions, known as the *curse of dimensionality*. Generally this applies when there are hundreds of features (or more). We can also sometimes see reductions in overfitting with dimensionality reduction, depending on the data and the model.\n",
    "\n",
    "There is no guarantee that dimensionality reduction will produce improved results — it all depends on how your features are related to each other, and the details of the machine learning algorithm you are using. In this lab you will walk through several different dimensionality reduction techniques and observe their impacts on the modeling process.\n",
    "\n",
    "### The Iris Dataset\n",
    "\n",
    "For this lab you will use the Iris Dataset that comes with scikit-learn. This is a classic \"toy\" dataset where we are trying to identify the species of iris based on the provided attributes."
   ]
  },
  {
   "cell_type": "code",
   "execution_count": 1,
   "metadata": {},
   "outputs": [
    {
     "data": {
      "text/html": [
       "<div>\n",
       "<style scoped>\n",
       "    .dataframe tbody tr th:only-of-type {\n",
       "        vertical-align: middle;\n",
       "    }\n",
       "\n",
       "    .dataframe tbody tr th {\n",
       "        vertical-align: top;\n",
       "    }\n",
       "\n",
       "    .dataframe thead th {\n",
       "        text-align: right;\n",
       "    }\n",
       "</style>\n",
       "<table border=\"1\" class=\"dataframe\">\n",
       "  <thead>\n",
       "    <tr style=\"text-align: right;\">\n",
       "      <th></th>\n",
       "      <th>sepal length (cm)</th>\n",
       "      <th>sepal width (cm)</th>\n",
       "      <th>petal length (cm)</th>\n",
       "      <th>petal width (cm)</th>\n",
       "      <th>target</th>\n",
       "    </tr>\n",
       "  </thead>\n",
       "  <tbody>\n",
       "    <tr>\n",
       "      <th>0</th>\n",
       "      <td>5.1</td>\n",
       "      <td>3.5</td>\n",
       "      <td>1.4</td>\n",
       "      <td>0.2</td>\n",
       "      <td>0</td>\n",
       "    </tr>\n",
       "    <tr>\n",
       "      <th>1</th>\n",
       "      <td>4.9</td>\n",
       "      <td>3.0</td>\n",
       "      <td>1.4</td>\n",
       "      <td>0.2</td>\n",
       "      <td>0</td>\n",
       "    </tr>\n",
       "    <tr>\n",
       "      <th>2</th>\n",
       "      <td>4.7</td>\n",
       "      <td>3.2</td>\n",
       "      <td>1.3</td>\n",
       "      <td>0.2</td>\n",
       "      <td>0</td>\n",
       "    </tr>\n",
       "    <tr>\n",
       "      <th>3</th>\n",
       "      <td>4.6</td>\n",
       "      <td>3.1</td>\n",
       "      <td>1.5</td>\n",
       "      <td>0.2</td>\n",
       "      <td>0</td>\n",
       "    </tr>\n",
       "    <tr>\n",
       "      <th>4</th>\n",
       "      <td>5.0</td>\n",
       "      <td>3.6</td>\n",
       "      <td>1.4</td>\n",
       "      <td>0.2</td>\n",
       "      <td>0</td>\n",
       "    </tr>\n",
       "  </tbody>\n",
       "</table>\n",
       "</div>"
      ],
      "text/plain": [
       "   sepal length (cm)  sepal width (cm)  petal length (cm)  petal width (cm)  \\\n",
       "0                5.1               3.5                1.4               0.2   \n",
       "1                4.9               3.0                1.4               0.2   \n",
       "2                4.7               3.2                1.3               0.2   \n",
       "3                4.6               3.1                1.5               0.2   \n",
       "4                5.0               3.6                1.4               0.2   \n",
       "\n",
       "   target  \n",
       "0       0  \n",
       "1       0  \n",
       "2       0  \n",
       "3       0  \n",
       "4       0  "
      ]
     },
     "execution_count": 1,
     "metadata": {},
     "output_type": "execute_result"
    }
   ],
   "source": [
    "# Run this cell without changes\n",
    "\n",
    "from sklearn import datasets\n",
    "import pandas as pd\n",
    " \n",
    "iris = datasets.load_iris()\n",
    "df = pd.DataFrame(iris.data, columns=iris.feature_names)\n",
    "df['target'] = iris.get('target')\n",
    "df.head()"
   ]
  },
  {
   "cell_type": "markdown",
   "metadata": {},
   "source": [
    "Part of why we use this dataset for so many examples is that there is clear predictive power in each of the features (i.e. the distributions of feature values differ for each of the targets):"
   ]
  },
  {
   "cell_type": "code",
   "execution_count": 2,
   "metadata": {},
   "outputs": [
    {
     "data": {
      "image/png": "[encoded data removed]",
      "text/plain": [
       "<Figure size 1080x288 with 4 Axes>"
      ]
     },
     "metadata": {
      "needs_background": "light"
     },
     "output_type": "display_data"
    }
   ],
   "source": [
    "# Run this cell without changes\n",
    "\n",
    "import matplotlib.pyplot as plt\n",
    "\n",
    "# Set up figure and axes\n",
    "fig, axes = plt.subplots(ncols=4, figsize=(15,4))\n",
    "\n",
    "# Loop over each feature\n",
    "for feature_index, feature_name in enumerate(iris.feature_names):\n",
    "    \n",
    "    # Find the relevant axes from the list and give it a label\n",
    "    ax = axes[feature_index]\n",
    "    ax.set_xlabel(feature_name)\n",
    "    \n",
    "    # Loop over the three target values and plot them by color\n",
    "    colors = ['r', 'g', 'b']\n",
    "    for target_index, target_name in enumerate(iris.target_names):\n",
    "        subset_rows = df[df[\"target\"] == target_index]\n",
    "        ax.hist(\n",
    "            subset_rows[feature_name],\n",
    "            label=target_name,    \n",
    "            color=colors[target_index],\n",
    "            alpha=0.5\n",
    "        )\n",
    "        \n",
    "# Add a legend to the last axes only\n",
    "ax.legend()\n",
    "\n",
    "# Set a title for the overall plot\n",
    "fig.suptitle(\"Feature Distributions by Iris Type\");"
   ]
  },
  {
   "cell_type": "markdown",
   "metadata": {},
   "source": [
    "### Requirements\n",
    "\n",
    "#### 1. Perform a Train-Test Split\n",
    "\n",
    "Because we are using dimensionality reduction within a predictive modeling context, we need to perform a train-test split prior to taking any other steps.\n",
    "\n",
    "#### 2. Scale Data\n",
    "\n",
    "Both the model we are using (logistic regression with regularization) and our dimensionality reduction techniques are distance-based, so we need to scale our data before performing any analysis.\n",
    "\n",
    "#### 3. Evaluate Model Performance without PCA\n",
    "\n",
    "Before performing PCA, fit a vanilla logistic regression model on the provided features and evaluate its performance, including the time taken.\n",
    "\n",
    "#### 4. Perform and Visualize PCA\n",
    "\n",
    "Using the `PCA` transformer class from scikit-learn, fit and transform the training data so that the four dimensions of the original features have been projected down to two dimensions. Identify how much of the variance is captured, and plot the data points using these two dimensions as the x-axis and y-axis.\n",
    "\n",
    "#### 5. Evaluate Model Performance with PCA\n",
    "\n",
    "Fit and evaluate a new logistic regression model on the transformed data.\n",
    "\n",
    "#### BONUS: Manifold Dimensionality Reduction\n",
    "\n",
    "Another, more-advanced technique to consider for dimensionality reduction is *manifold learning*. Fortunately scikit-learn also provides an interface to this technique that works the same way as any other transformer."
   ]
  },
  {
   "cell_type": "markdown",
   "metadata": {},
   "source": [
    "## 1. Perform a Train-Test Split\n",
    "\n",
    "Currently all of the data is contained in a dataframe called `df`, where the target (y value) is labeled `\"target\"`. In the cell below, separate the data into `X` and `y`, then use `train_test_split` ([documentation here](https://scikit-learn.org/stable/modules/generated/sklearn.model_selection.train_test_split.html)) with `random_state=42` to create training and test datasets."
   ]
  },
  {
   "cell_type": "code",
   "execution_count": 20,
   "metadata": {},
   "outputs": [],
   "source": [
    "# Replace None with appropriate code\n",
    "\n",
    "# Import the relevant function\n",
    "from sklearn.model_selection import train_test_split\n",
    "\n",
    "# Separate X and y\n",
    "X = df.drop('target', axis=1)\n",
    "y = df['target']\n",
    "\n",
    "# Perform train-test split with random_state=42\n",
    "X_train, X_test, y_train, y_test = train_test_split(X, y, test_size=0.2, random_state=42)"
   ]
  },
  {
   "cell_type": "markdown",
   "metadata": {},
   "source": [
    "Make sure your data has the appropriate shape before moving forward:"
   ]
  },
  {
   "cell_type": "code",
   "execution_count": 21,
   "metadata": {},
   "outputs": [],
   "source": [
    "# Run this cell without changes\n",
    "\n",
    "# Both train and test X should have 4 columns\n",
    "assert (X_train.shape[1] == 4) and (X_test.shape[1] == 4)\n",
    "\n",
    "# Both train and test y should have 1 column\n",
    "assert (len(y_train.shape) == 1) and (len(y_test.shape) == 1)\n",
    "\n",
    "# Train X and y should have the same number of rows\n",
    "assert X_train.shape[0] == y_train.shape[0]\n",
    "\n",
    "# Test X and y should have the same number of rows\n",
    "assert X_test.shape[0] == y_test.shape[0]"
   ]
  },
  {
   "cell_type": "markdown",
   "metadata": {},
   "source": [
    "## 2. Scale Data\n",
    "\n",
    "Use the `StandardScaler` class from scikit-learn ([documentation here](https://scikit-learn.org/stable/modules/generated/sklearn.preprocessing.StandardScaler.html)) to preprocess the data. Make sure you fit the scaler on the training data only, and transform both the train and test data."
   ]
  },
  {
   "cell_type": "code",
   "execution_count": 24,
   "metadata": {},
   "outputs": [
    {
     "data": {
      "text/html": [
       "<div>\n",
       "<style scoped>\n",
       "    .dataframe tbody tr th:only-of-type {\n",
       "        vertical-align: middle;\n",
       "    }\n",
       "\n",
       "    .dataframe tbody tr th {\n",
       "        vertical-align: top;\n",
       "    }\n",
       "\n",
       "    .dataframe thead th {\n",
       "        text-align: right;\n",
       "    }\n",
       "</style>\n",
       "<table border=\"1\" class=\"dataframe\">\n",
       "  <thead>\n",
       "    <tr style=\"text-align: right;\">\n",
       "      <th></th>\n",
       "      <th>sepal length (cm)</th>\n",
       "      <th>sepal width (cm)</th>\n",
       "      <th>petal length (cm)</th>\n",
       "      <th>petal width (cm)</th>\n",
       "    </tr>\n",
       "  </thead>\n",
       "  <tbody>\n",
       "    <tr>\n",
       "      <th>0</th>\n",
       "      <td>-1.473937</td>\n",
       "      <td>1.203658</td>\n",
       "      <td>-1.562535</td>\n",
       "      <td>-1.312603</td>\n",
       "    </tr>\n",
       "    <tr>\n",
       "      <th>1</th>\n",
       "      <td>-0.133071</td>\n",
       "      <td>2.992376</td>\n",
       "      <td>-1.276006</td>\n",
       "      <td>-1.045633</td>\n",
       "    </tr>\n",
       "    <tr>\n",
       "      <th>2</th>\n",
       "      <td>1.085898</td>\n",
       "      <td>0.085709</td>\n",
       "      <td>0.385858</td>\n",
       "      <td>0.289218</td>\n",
       "    </tr>\n",
       "    <tr>\n",
       "      <th>3</th>\n",
       "      <td>-1.230143</td>\n",
       "      <td>0.756479</td>\n",
       "      <td>-1.218701</td>\n",
       "      <td>-1.312603</td>\n",
       "    </tr>\n",
       "    <tr>\n",
       "      <th>4</th>\n",
       "      <td>-1.717731</td>\n",
       "      <td>0.309299</td>\n",
       "      <td>-1.390618</td>\n",
       "      <td>-1.312603</td>\n",
       "    </tr>\n",
       "    <tr>\n",
       "      <th>...</th>\n",
       "      <td>...</td>\n",
       "      <td>...</td>\n",
       "      <td>...</td>\n",
       "      <td>...</td>\n",
       "    </tr>\n",
       "    <tr>\n",
       "      <th>115</th>\n",
       "      <td>0.354517</td>\n",
       "      <td>-0.585060</td>\n",
       "      <td>0.156636</td>\n",
       "      <td>0.155733</td>\n",
       "    </tr>\n",
       "    <tr>\n",
       "      <th>116</th>\n",
       "      <td>-1.108246</td>\n",
       "      <td>-1.255829</td>\n",
       "      <td>0.443164</td>\n",
       "      <td>0.689673</td>\n",
       "    </tr>\n",
       "    <tr>\n",
       "      <th>117</th>\n",
       "      <td>-0.011174</td>\n",
       "      <td>2.098017</td>\n",
       "      <td>-1.447923</td>\n",
       "      <td>-1.312603</td>\n",
       "    </tr>\n",
       "    <tr>\n",
       "      <th>118</th>\n",
       "      <td>-0.011174</td>\n",
       "      <td>-1.032239</td>\n",
       "      <td>0.156636</td>\n",
       "      <td>0.022248</td>\n",
       "    </tr>\n",
       "    <tr>\n",
       "      <th>119</th>\n",
       "      <td>1.573486</td>\n",
       "      <td>-0.137880</td>\n",
       "      <td>1.245443</td>\n",
       "      <td>1.223613</td>\n",
       "    </tr>\n",
       "  </tbody>\n",
       "</table>\n",
       "<p>120 rows × 4 columns</p>\n",
       "</div>"
      ],
      "text/plain": [
       "     sepal length (cm)  sepal width (cm)  petal length (cm)  petal width (cm)\n",
       "0            -1.473937          1.203658          -1.562535         -1.312603\n",
       "1            -0.133071          2.992376          -1.276006         -1.045633\n",
       "2             1.085898          0.085709           0.385858          0.289218\n",
       "3            -1.230143          0.756479          -1.218701         -1.312603\n",
       "4            -1.717731          0.309299          -1.390618         -1.312603\n",
       "..                 ...               ...                ...               ...\n",
       "115           0.354517         -0.585060           0.156636          0.155733\n",
       "116          -1.108246         -1.255829           0.443164          0.689673\n",
       "117          -0.011174          2.098017          -1.447923         -1.312603\n",
       "118          -0.011174         -1.032239           0.156636          0.022248\n",
       "119           1.573486         -0.137880           1.245443          1.223613\n",
       "\n",
       "[120 rows x 4 columns]"
      ]
     },
     "execution_count": 24,
     "metadata": {},
     "output_type": "execute_result"
    }
   ],
   "source": [
    "# Replace None with appropriate code\n",
    "\n",
    "from sklearn.preprocessing import StandardScaler\n",
    "\n",
    "# Instantiate a scaler\n",
    "scaler = StandardScaler()\n",
    "\n",
    "# Fit the scaler on X_train\n",
    "scaler.fit(X_train)\n",
    "\n",
    "# Transform X_train and X_test. Go ahead and reuse the variable names \n",
    "# \"X_train\" and \"X_test\" since we won't need the un-scaled data\n",
    "X_train = scaler.transform(X_train)\n",
    "X_test = scaler.transform(X_test)\n",
    "\n",
    "# Now the values should be scaled\n",
    "pd.DataFrame(X_train, columns=iris.feature_names)"
   ]
  },
  {
   "cell_type": "markdown",
   "metadata": {},
   "source": [
    "## 3. Evaluate Model Performance without PCA\n",
    "\n",
    "In the cell below, instantiate a `LogisticRegression` model ([documentation here](https://scikit-learn.org/stable/modules/generated/sklearn.linear_model.LogisticRegression.html)) with `random_state=42`."
   ]
  },
  {
   "cell_type": "code",
   "execution_count": 25,
   "metadata": {},
   "outputs": [
    {
     "data": {
      "text/html": [
       "<style>#sk-container-id-2 {color: black;}#sk-container-id-2 pre{padding: 0;}#sk-container-id-2 div.sk-toggleable {background-color: white;}#sk-container-id-2 label.sk-toggleable__label {cursor: pointer;display: block;width: 100%;margin-bottom: 0;padding: 0.3em;box-sizing: border-box;text-align: center;}#sk-container-id-2 label.sk-toggleable__label-arrow:before {content: \"▸\";float: left;margin-right: 0.25em;color: #696969;}#sk-container-id-2 label.sk-toggleable__label-arrow:hover:before {color: black;}#sk-container-id-2 div.sk-estimator:hover label.sk-toggleable__label-arrow:before {color: black;}#sk-container-id-2 div.sk-toggleable__content {max-height: 0;max-width: 0;overflow: hidden;text-align: left;background-color: #f0f8ff;}#sk-container-id-2 div.sk-toggleable__content pre {margin: 0.2em;color: black;border-radius: 0.25em;background-color: #f0f8ff;}#sk-container-id-2 input.sk-toggleable__control:checked~div.sk-toggleable__content {max-height: 200px;max-width: 100%;overflow: auto;}#sk-container-id-2 input.sk-toggleable__control:checked~label.sk-toggleable__label-arrow:before {content: \"▾\";}#sk-container-id-2 div.sk-estimator input.sk-toggleable__control:checked~label.sk-toggleable__label {background-color: #d4ebff;}#sk-container-id-2 div.sk-label input.sk-toggleable__control:checked~label.sk-toggleable__label {background-color: #d4ebff;}#sk-container-id-2 input.sk-hidden--visually {border: 0;clip: rect(1px 1px 1px 1px);clip: rect(1px, 1px, 1px, 1px);height: 1px;margin: -1px;overflow: hidden;padding: 0;position: absolute;width: 1px;}#sk-container-id-2 div.sk-estimator {font-family: monospace;background-color: #f0f8ff;border: 1px dotted black;border-radius: 0.25em;box-sizing: border-box;margin-bottom: 0.5em;}#sk-container-id-2 div.sk-estimator:hover {background-color: #d4ebff;}#sk-container-id-2 div.sk-parallel-item::after {content: \"\";width: 100%;border-bottom: 1px solid gray;flex-grow: 1;}#sk-container-id-2 div.sk-label:hover label.sk-toggleable__label {background-color: #d4ebff;}#sk-container-id-2 div.sk-serial::before {content: \"\";position: absolute;border-left: 1px solid gray;box-sizing: border-box;top: 0;bottom: 0;left: 50%;z-index: 0;}#sk-container-id-2 div.sk-serial {display: flex;flex-direction: column;align-items: center;background-color: white;padding-right: 0.2em;padding-left: 0.2em;position: relative;}#sk-container-id-2 div.sk-item {position: relative;z-index: 1;}#sk-container-id-2 div.sk-parallel {display: flex;align-items: stretch;justify-content: center;background-color: white;position: relative;}#sk-container-id-2 div.sk-item::before, #sk-container-id-2 div.sk-parallel-item::before {content: \"\";position: absolute;border-left: 1px solid gray;box-sizing: border-box;top: 0;bottom: 0;left: 50%;z-index: -1;}#sk-container-id-2 div.sk-parallel-item {display: flex;flex-direction: column;z-index: 1;position: relative;background-color: white;}#sk-container-id-2 div.sk-parallel-item:first-child::after {align-self: flex-end;width: 50%;}#sk-container-id-2 div.sk-parallel-item:last-child::after {align-self: flex-start;width: 50%;}#sk-container-id-2 div.sk-parallel-item:only-child::after {width: 0;}#sk-container-id-2 div.sk-dashed-wrapped {border: 1px dashed gray;margin: 0 0.4em 0.5em 0.4em;box-sizing: border-box;padding-bottom: 0.4em;background-color: white;}#sk-container-id-2 div.sk-label label {font-family: monospace;font-weight: bold;display: inline-block;line-height: 1.2em;}#sk-container-id-2 div.sk-label-container {text-align: center;}#sk-container-id-2 div.sk-container {/* jupyter's `normalize.less` sets `[hidden] { display: none; }` but bootstrap.min.css set `[hidden] { display: none !important; }` so we also need the `!important` here to be able to override the default hidden behavior on the sphinx rendered scikit-learn.org. See: https://github.com/scikit-learn/scikit-learn/issues/21755 */display: inline-block !important;position: relative;}#sk-container-id-2 div.sk-text-repr-fallback {display: none;}</style><div id=\"sk-container-id-2\" class=\"sk-top-container\"><div class=\"sk-text-repr-fallback\"><pre>LogisticRegression(random_state=42)</pre><b>In a Jupyter environment, please rerun this cell to show the HTML representation or trust the notebook. <br />On GitHub, the HTML representation is unable to render, please try loading this page with nbviewer.org.</b></div><div class=\"sk-container\" hidden><div class=\"sk-item\"><div class=\"sk-estimator sk-toggleable\"><input class=\"sk-toggleable__control sk-hidden--visually\" id=\"sk-estimator-id-2\" type=\"checkbox\" checked><label for=\"sk-estimator-id-2\" class=\"sk-toggleable__label sk-toggleable__label-arrow\">LogisticRegression</label><div class=\"sk-toggleable__content\"><pre>LogisticRegression(random_state=42)</pre></div></div></div></div></div>"
      ],
      "text/plain": [
       "LogisticRegression(random_state=42)"
      ]
     },
     "execution_count": 25,
     "metadata": {},
     "output_type": "execute_result"
    }
   ],
   "source": [
    "# Replace None with appropriate code\n",
    "\n",
    "# Import the relevant class\n",
    "from sklearn.linear_model import LogisticRegression\n",
    "\n",
    "# Instantiate the model with random_state=42\n",
    "baseline_model = LogisticRegression(random_state=42)\n",
    "baseline_model"
   ]
  },
  {
   "cell_type": "markdown",
   "metadata": {},
   "source": [
    "Now fit the model on the training data and score it on the test data (using the `.score` method)."
   ]
  },
  {
   "cell_type": "code",
   "execution_count": 26,
   "metadata": {},
   "outputs": [
    {
     "name": "stdout",
     "output_type": "stream",
     "text": [
      "Model score: 1.0\n",
      "Time taken: 0.025261402130126953\n"
     ]
    }
   ],
   "source": [
    "# Replace None with appropriate code\n",
    "import time\n",
    "\n",
    "start = time.time()\n",
    "\n",
    "# Fit the model on the training data\n",
    "baseline_model.fit(X_train, y_train)\n",
    "\n",
    "# Score the model on the test data\n",
    "baseline_model_score = baseline_model.score(X_test, y_test)\n",
    "\n",
    "end = time.time()\n",
    "baseline_time_taken = end - start\n",
    "\n",
    "print(\"Model score:\", baseline_model_score)\n",
    "print(\"Time taken:\", baseline_time_taken)"
   ]
  },
  {
   "cell_type": "code",
   "execution_count": 27,
   "metadata": {},
   "outputs": [
    {
     "data": {
      "text/plain": [
       "1.0"
      ]
     },
     "execution_count": 27,
     "metadata": {},
     "output_type": "execute_result"
    }
   ],
   "source": [
    "# Run this cell without changes\n",
    "baseline_model_score"
   ]
  },
  {
   "cell_type": "markdown",
   "metadata": {},
   "source": [
    "Ok, so it looks like we are getting essentially perfect performance with our baseline classifier, and it is taking aroud 8ms (timing will vary depending on your system).\n",
    "\n",
    "Now let's investigate using PCA to reduce the dimensions of the data."
   ]
  },
  {
   "cell_type": "markdown",
   "metadata": {},
   "source": [
    "## 4. Perform and Visualize PCA\n",
    "\n",
    "### Performing PCA\n",
    "\n",
    "As demonstrated in a previous lesson, PCA can be applied relatively simply using the scikit-learn library. Just like with the `StandardScaler`, you'll need to instantiate a `PCA` transformer, fit it on the training data, and transform both the train and the test data. You can find documentation for the `PCA` class [here](https://scikit-learn.org/stable/modules/generated/sklearn.decomposition.PCA.html).\n",
    "\n",
    "We'll set `n_components` to `2`, meaning that we will only keep the first two principal components."
   ]
  },
  {
   "cell_type": "code",
   "execution_count": 28,
   "metadata": {},
   "outputs": [],
   "source": [
    "# Replace None with appropriate code\n",
    "\n",
    "# Import the relevant class\n",
    "from sklearn.decomposition import PCA\n",
    "\n",
    "# Instantiate the PCA transformer with n_components=2\n",
    "pca = PCA(n_components=2)\n",
    "\n",
    "# Fit the transformer on X_train\n",
    "pca.fit(X_train)\n",
    "\n",
    "# Transform X_train and X_test. This time, create new\n",
    "# variables for the transformed data\n",
    "X_train_pca = pca.transform(X_train)\n",
    "X_test_pca = pca.transform(X_test)"
   ]
  },
  {
   "cell_type": "markdown",
   "metadata": {},
   "source": [
    "Now, our PCA-transformed X values should have the same number of rows as before, but a different number of columns:"
   ]
  },
  {
   "cell_type": "code",
   "execution_count": 29,
   "metadata": {},
   "outputs": [
    {
     "data": {
      "text/html": [
       "<div>\n",
       "<style scoped>\n",
       "    .dataframe tbody tr th:only-of-type {\n",
       "        vertical-align: middle;\n",
       "    }\n",
       "\n",
       "    .dataframe tbody tr th {\n",
       "        vertical-align: top;\n",
       "    }\n",
       "\n",
       "    .dataframe thead th {\n",
       "        text-align: right;\n",
       "    }\n",
       "</style>\n",
       "<table border=\"1\" class=\"dataframe\">\n",
       "  <thead>\n",
       "    <tr style=\"text-align: right;\">\n",
       "      <th></th>\n",
       "      <th>PC 1</th>\n",
       "      <th>PC 2</th>\n",
       "    </tr>\n",
       "  </thead>\n",
       "  <tbody>\n",
       "    <tr>\n",
       "      <th>0</th>\n",
       "      <td>-2.741058</td>\n",
       "      <td>0.415798</td>\n",
       "    </tr>\n",
       "    <tr>\n",
       "      <th>1</th>\n",
       "      <td>-2.214577</td>\n",
       "      <td>2.604762</td>\n",
       "    </tr>\n",
       "    <tr>\n",
       "      <th>2</th>\n",
       "      <td>0.926828</td>\n",
       "      <td>0.529167</td>\n",
       "    </tr>\n",
       "    <tr>\n",
       "      <th>3</th>\n",
       "      <td>-2.293429</td>\n",
       "      <td>0.108078</td>\n",
       "    </tr>\n",
       "    <tr>\n",
       "      <th>4</th>\n",
       "      <td>-2.524548</td>\n",
       "      <td>-0.496938</td>\n",
       "    </tr>\n",
       "    <tr>\n",
       "      <th>...</th>\n",
       "      <td>...</td>\n",
       "      <td>...</td>\n",
       "    </tr>\n",
       "    <tr>\n",
       "      <th>115</th>\n",
       "      <td>0.521362</td>\n",
       "      <td>-0.385743</td>\n",
       "    </tr>\n",
       "    <tr>\n",
       "      <th>116</th>\n",
       "      <td>0.415127</td>\n",
       "      <td>-1.535405</td>\n",
       "    </tr>\n",
       "    <tr>\n",
       "      <th>117</th>\n",
       "      <td>-2.159999</td>\n",
       "      <td>1.811532</td>\n",
       "    </tr>\n",
       "    <tr>\n",
       "      <th>118</th>\n",
       "      <td>0.377947</td>\n",
       "      <td>-0.947346</td>\n",
       "    </tr>\n",
       "    <tr>\n",
       "      <th>119</th>\n",
       "      <td>2.268576</td>\n",
       "      <td>0.589401</td>\n",
       "    </tr>\n",
       "  </tbody>\n",
       "</table>\n",
       "<p>120 rows × 2 columns</p>\n",
       "</div>"
      ],
      "text/plain": [
       "         PC 1      PC 2\n",
       "0   -2.741058  0.415798\n",
       "1   -2.214577  2.604762\n",
       "2    0.926828  0.529167\n",
       "3   -2.293429  0.108078\n",
       "4   -2.524548 -0.496938\n",
       "..        ...       ...\n",
       "115  0.521362 -0.385743\n",
       "116  0.415127 -1.535405\n",
       "117 -2.159999  1.811532\n",
       "118  0.377947 -0.947346\n",
       "119  2.268576  0.589401\n",
       "\n",
       "[120 rows x 2 columns]"
      ]
     },
     "execution_count": 29,
     "metadata": {},
     "output_type": "execute_result"
    }
   ],
   "source": [
    "# Run this cell without changes\n",
    "\n",
    "# Same number of rows, different number of columns\n",
    "assert X_train_pca.shape[0] == X_train.shape[0]\n",
    "assert X_train_pca.shape[1] != X_train.shape[1]\n",
    "\n",
    "# Specifically, the transformed data should have 2 columns\n",
    "# because we set n_components=2\n",
    "assert X_train_pca.shape[1] == 2\n",
    "\n",
    "pd.DataFrame(X_train_pca, columns=[\"PC 1\", \"PC 2\"])"
   ]
  },
  {
   "cell_type": "markdown",
   "metadata": {},
   "source": [
    "### Visualizing Principal Components "
   ]
  },
  {
   "cell_type": "markdown",
   "metadata": {},
   "source": [
    "Using the target data, we can visualize the principal components according to the class distribution. \n",
    "\n",
    "Create a scatter plot from principal components, where the color of the dot is based on the target value.\n",
    "\n",
    "First, separate `X_train_pca` based on the associated target value in `y_train`. Create dataframes `setosa` (target = 0), `versicolor` (target = 1), and `virginica` (target = 2) using the dataframe created below."
   ]
  },
  {
   "cell_type": "code",
   "execution_count": 30,
   "metadata": {},
   "outputs": [
    {
     "data": {
      "text/html": [
       "<div>\n",
       "<style scoped>\n",
       "    .dataframe tbody tr th:only-of-type {\n",
       "        vertical-align: middle;\n",
       "    }\n",
       "\n",
       "    .dataframe tbody tr th {\n",
       "        vertical-align: top;\n",
       "    }\n",
       "\n",
       "    .dataframe thead th {\n",
       "        text-align: right;\n",
       "    }\n",
       "</style>\n",
       "<table border=\"1\" class=\"dataframe\">\n",
       "  <thead>\n",
       "    <tr style=\"text-align: right;\">\n",
       "      <th></th>\n",
       "      <th>PC 1</th>\n",
       "      <th>PC 2</th>\n",
       "      <th>target</th>\n",
       "    </tr>\n",
       "  </thead>\n",
       "  <tbody>\n",
       "    <tr>\n",
       "      <th>0</th>\n",
       "      <td>-2.741058</td>\n",
       "      <td>0.415798</td>\n",
       "      <td>0</td>\n",
       "    </tr>\n",
       "    <tr>\n",
       "      <th>1</th>\n",
       "      <td>-2.214577</td>\n",
       "      <td>2.604762</td>\n",
       "      <td>0</td>\n",
       "    </tr>\n",
       "    <tr>\n",
       "      <th>2</th>\n",
       "      <td>0.926828</td>\n",
       "      <td>0.529167</td>\n",
       "      <td>1</td>\n",
       "    </tr>\n",
       "    <tr>\n",
       "      <th>3</th>\n",
       "      <td>-2.293429</td>\n",
       "      <td>0.108078</td>\n",
       "      <td>0</td>\n",
       "    </tr>\n",
       "    <tr>\n",
       "      <th>4</th>\n",
       "      <td>-2.524548</td>\n",
       "      <td>-0.496938</td>\n",
       "      <td>0</td>\n",
       "    </tr>\n",
       "    <tr>\n",
       "      <th>...</th>\n",
       "      <td>...</td>\n",
       "      <td>...</td>\n",
       "      <td>...</td>\n",
       "    </tr>\n",
       "    <tr>\n",
       "      <th>115</th>\n",
       "      <td>0.521362</td>\n",
       "      <td>-0.385743</td>\n",
       "      <td>1</td>\n",
       "    </tr>\n",
       "    <tr>\n",
       "      <th>116</th>\n",
       "      <td>0.415127</td>\n",
       "      <td>-1.535405</td>\n",
       "      <td>2</td>\n",
       "    </tr>\n",
       "    <tr>\n",
       "      <th>117</th>\n",
       "      <td>-2.159999</td>\n",
       "      <td>1.811532</td>\n",
       "      <td>0</td>\n",
       "    </tr>\n",
       "    <tr>\n",
       "      <th>118</th>\n",
       "      <td>0.377947</td>\n",
       "      <td>-0.947346</td>\n",
       "      <td>1</td>\n",
       "    </tr>\n",
       "    <tr>\n",
       "      <th>119</th>\n",
       "      <td>2.268576</td>\n",
       "      <td>0.589401</td>\n",
       "      <td>2</td>\n",
       "    </tr>\n",
       "  </tbody>\n",
       "</table>\n",
       "<p>120 rows × 3 columns</p>\n",
       "</div>"
      ],
      "text/plain": [
       "         PC 1      PC 2  target\n",
       "0   -2.741058  0.415798       0\n",
       "1   -2.214577  2.604762       0\n",
       "2    0.926828  0.529167       1\n",
       "3   -2.293429  0.108078       0\n",
       "4   -2.524548 -0.496938       0\n",
       "..        ...       ...     ...\n",
       "115  0.521362 -0.385743       1\n",
       "116  0.415127 -1.535405       2\n",
       "117 -2.159999  1.811532       0\n",
       "118  0.377947 -0.947346       1\n",
       "119  2.268576  0.589401       2\n",
       "\n",
       "[120 rows x 3 columns]"
      ]
     },
     "execution_count": 30,
     "metadata": {},
     "output_type": "execute_result"
    }
   ],
   "source": [
    "# Run this cell without changes\n",
    "train_combined_pca = pd.DataFrame(X_train_pca, columns=[\"PC 1\", \"PC 2\"])\n",
    "train_combined_pca[\"target\"] = y_train.values\n",
    "train_combined_pca"
   ]
  },
  {
   "cell_type": "code",
   "execution_count": 31,
   "metadata": {},
   "outputs": [],
   "source": [
    "# Replace None with appropriate code\n",
    "\n",
    "# Rows of train_combined_pca where target is 0\n",
    "setosa = train_combined_pca[train_combined_pca[\"target\"] == 0]\n",
    "\n",
    "# Rows of train_combined_pca where target is 1\n",
    "versicolor = train_combined_pca[train_combined_pca[\"target\"] == 1]\n",
    "\n",
    "# Rows of train_combined_pca where target is 2\n",
    "virginica = train_combined_pca[train_combined_pca[\"target\"] == 2]"
   ]
  },
  {
   "cell_type": "markdown",
   "metadata": {},
   "source": [
    "The code below checks that the dataframes have the correct length:"
   ]
  },
  {
   "cell_type": "code",
   "execution_count": 32,
   "metadata": {},
   "outputs": [],
   "source": [
    "# Run this cell without changes\n",
    "\n",
    "train_value_counts = y_train.value_counts()\n",
    "\n",
    "assert len(setosa) == train_value_counts[0]\n",
    "assert len(versicolor) == train_value_counts[1]\n",
    "assert len(virginica) == train_value_counts[2]"
   ]
  },
  {
   "cell_type": "markdown",
   "metadata": {},
   "source": [
    "Now we can set up the actual scatter plots.\n",
    "\n",
    "Notes:\n",
    "\n",
    "* You'll need to call `ax.scatter` three times, once with each of the types of iris.\n",
    "* The x values passed in should be the values from the `\"PC 1\"` column, whereas the y values should be the values from the `\"PC 2\"` column.\n",
    "* Set the color of `setosa` to red using `c='r'`, `versicolor` to green using `c='g'`, and `virginica` to blue using `c='b'`."
   ]
  },
  {
   "cell_type": "code",
   "execution_count": 33,
   "metadata": {},
   "outputs": [
    {
     "data": {
      "image/png": "[encoded data removed]",
      "text/plain": [
       "<Figure size 720x576 with 1 Axes>"
      ]
     },
     "metadata": {
      "needs_background": "light"
     },
     "output_type": "display_data"
    }
   ],
   "source": [
    "# Replace None with appropriate code\n",
    "\n",
    "# Set up figure and axes\n",
    "fig, ax = plt.subplots(figsize=(10, 8))\n",
    "ax.grid()\n",
    "\n",
    "# Scatter plot of setosa (red)\n",
    "ax.scatter(setosa[\"PC 1\"], setosa[\"PC 2\"], c='r', label='setosa')\n",
    "\n",
    "# Scatter plot of versicolor (green)\n",
    "ax.scatter(versicolor[\"PC 1\"], versicolor[\"PC 2\"], c='g', label='versicolor')\n",
    "\n",
    "# Scatter plot of virginica (blue)\n",
    "ax.scatter(virginica[\"PC 1\"], virginica[\"PC 2\"], c='b', label='virginica')\n",
    "\n",
    "# Customize labels\n",
    "ax.set_xlabel('First Principal Component ', fontsize = 15)\n",
    "ax.set_ylabel('Second Principal Component ', fontsize = 15)\n",
    "ax.set_title('Principal Component Analysis (2 PCs) for Iris Dataset', fontsize = 20)\n",
    "ax.legend(iris.target_names, fontsize=\"large\");"
   ]
  },
  {
   "cell_type": "markdown",
   "metadata": {},
   "source": [
    "### Explained Variance\n",
    "\n",
    "You can see above that the three classes in the dataset are fairly well separable, even though the data has been projected into two dimensions (down from 4 dimensions). As such, this compressed representation of the data is probably sufficient for the classification task at hand.\n",
    "\n",
    "Let's confirm this evaluation by extracting the explained variance ratio from the fitted `pca` object. It has an attribute `explained_variance_ratio_` that describes the amount of variance explained by each principal component. (Remember you can find the full PCA documentation [here](https://scikit-learn.org/stable/modules/generated/sklearn.decomposition.PCA.html).)\n",
    "\n",
    "In the cell below, extract that information from `pca`:"
   ]
  },
  {
   "cell_type": "code",
   "execution_count": 34,
   "metadata": {},
   "outputs": [
    {
     "name": "stdout",
     "output_type": "stream",
     "text": [
      "The first principal component explains 72.551% of the variance\n",
      "The second principal component explains 23.001% of the variance\n",
      "\n",
      "Overall, the first two principal components explain 95.552% of the variance\n"
     ]
    }
   ],
   "source": [
    "# Replace None with appropriate code\n",
    "\n",
    "# Extract the explained variance ratio from the pca object\n",
    "evr_all_components = pca.explained_variance_ratio_\n",
    "\n",
    "pc1_evr = evr_all_components[0]\n",
    "pc2_evr = evr_all_components[1]\n",
    "print(f\"The first principal component explains {round(pc1_evr*100, 3)}% of the variance\")\n",
    "print(f\"The second principal component explains {round(pc2_evr*100, 3)}% of the variance\")\n",
    "print()\n",
    "print(f\"Overall, the first two principal components explain {round(sum(evr_all_components*100), 3)}% of the variance\")"
   ]
  },
  {
   "cell_type": "markdown",
   "metadata": {},
   "source": [
    "As you can see, these first two principal components account for the vast majority of the overall variance in the dataset. This is indicative of the total information encapsulated in the compressed representation (2 dimensions) compared to the original encoding (4 dimensions)."
   ]
  },
  {
   "cell_type": "markdown",
   "metadata": {},
   "source": [
    "## 5. Evaluate Model Performance with PCA\n",
    "\n",
    "Since the first two principal components explain 95% of the variance in the data, we are hoping that the model performance will be similar on the lower-dimensional data, while improving computational speed.\n",
    "\n",
    "In the cell below, we instantiate a new logistic regression model:"
   ]
  },
  {
   "cell_type": "code",
   "execution_count": 35,
   "metadata": {},
   "outputs": [
    {
     "data": {
      "text/html": [
       "<style>#sk-container-id-3 {color: black;}#sk-container-id-3 pre{padding: 0;}#sk-container-id-3 div.sk-toggleable {background-color: white;}#sk-container-id-3 label.sk-toggleable__label {cursor: pointer;display: block;width: 100%;margin-bottom: 0;padding: 0.3em;box-sizing: border-box;text-align: center;}#sk-container-id-3 label.sk-toggleable__label-arrow:before {content: \"▸\";float: left;margin-right: 0.25em;color: #696969;}#sk-container-id-3 label.sk-toggleable__label-arrow:hover:before {color: black;}#sk-container-id-3 div.sk-estimator:hover label.sk-toggleable__label-arrow:before {color: black;}#sk-container-id-3 div.sk-toggleable__content {max-height: 0;max-width: 0;overflow: hidden;text-align: left;background-color: #f0f8ff;}#sk-container-id-3 div.sk-toggleable__content pre {margin: 0.2em;color: black;border-radius: 0.25em;background-color: #f0f8ff;}#sk-container-id-3 input.sk-toggleable__control:checked~div.sk-toggleable__content {max-height: 200px;max-width: 100%;overflow: auto;}#sk-container-id-3 input.sk-toggleable__control:checked~label.sk-toggleable__label-arrow:before {content: \"▾\";}#sk-container-id-3 div.sk-estimator input.sk-toggleable__control:checked~label.sk-toggleable__label {background-color: #d4ebff;}#sk-container-id-3 div.sk-label input.sk-toggleable__control:checked~label.sk-toggleable__label {background-color: #d4ebff;}#sk-container-id-3 input.sk-hidden--visually {border: 0;clip: rect(1px 1px 1px 1px);clip: rect(1px, 1px, 1px, 1px);height: 1px;margin: -1px;overflow: hidden;padding: 0;position: absolute;width: 1px;}#sk-container-id-3 div.sk-estimator {font-family: monospace;background-color: #f0f8ff;border: 1px dotted black;border-radius: 0.25em;box-sizing: border-box;margin-bottom: 0.5em;}#sk-container-id-3 div.sk-estimator:hover {background-color: #d4ebff;}#sk-container-id-3 div.sk-parallel-item::after {content: \"\";width: 100%;border-bottom: 1px solid gray;flex-grow: 1;}#sk-container-id-3 div.sk-label:hover label.sk-toggleable__label {background-color: #d4ebff;}#sk-container-id-3 div.sk-serial::before {content: \"\";position: absolute;border-left: 1px solid gray;box-sizing: border-box;top: 0;bottom: 0;left: 50%;z-index: 0;}#sk-container-id-3 div.sk-serial {display: flex;flex-direction: column;align-items: center;background-color: white;padding-right: 0.2em;padding-left: 0.2em;position: relative;}#sk-container-id-3 div.sk-item {position: relative;z-index: 1;}#sk-container-id-3 div.sk-parallel {display: flex;align-items: stretch;justify-content: center;background-color: white;position: relative;}#sk-container-id-3 div.sk-item::before, #sk-container-id-3 div.sk-parallel-item::before {content: \"\";position: absolute;border-left: 1px solid gray;box-sizing: border-box;top: 0;bottom: 0;left: 50%;z-index: -1;}#sk-container-id-3 div.sk-parallel-item {display: flex;flex-direction: column;z-index: 1;position: relative;background-color: white;}#sk-container-id-3 div.sk-parallel-item:first-child::after {align-self: flex-end;width: 50%;}#sk-container-id-3 div.sk-parallel-item:last-child::after {align-self: flex-start;width: 50%;}#sk-container-id-3 div.sk-parallel-item:only-child::after {width: 0;}#sk-container-id-3 div.sk-dashed-wrapped {border: 1px dashed gray;margin: 0 0.4em 0.5em 0.4em;box-sizing: border-box;padding-bottom: 0.4em;background-color: white;}#sk-container-id-3 div.sk-label label {font-family: monospace;font-weight: bold;display: inline-block;line-height: 1.2em;}#sk-container-id-3 div.sk-label-container {text-align: center;}#sk-container-id-3 div.sk-container {/* jupyter's `normalize.less` sets `[hidden] { display: none; }` but bootstrap.min.css set `[hidden] { display: none !important; }` so we also need the `!important` here to be able to override the default hidden behavior on the sphinx rendered scikit-learn.org. See: https://github.com/scikit-learn/scikit-learn/issues/21755 */display: inline-block !important;position: relative;}#sk-container-id-3 div.sk-text-repr-fallback {display: none;}</style><div id=\"sk-container-id-3\" class=\"sk-top-container\"><div class=\"sk-text-repr-fallback\"><pre>LogisticRegression(random_state=42)</pre><b>In a Jupyter environment, please rerun this cell to show the HTML representation or trust the notebook. <br />On GitHub, the HTML representation is unable to render, please try loading this page with nbviewer.org.</b></div><div class=\"sk-container\" hidden><div class=\"sk-item\"><div class=\"sk-estimator sk-toggleable\"><input class=\"sk-toggleable__control sk-hidden--visually\" id=\"sk-estimator-id-3\" type=\"checkbox\" checked><label for=\"sk-estimator-id-3\" class=\"sk-toggleable__label sk-toggleable__label-arrow\">LogisticRegression</label><div class=\"sk-toggleable__content\"><pre>LogisticRegression(random_state=42)</pre></div></div></div></div></div>"
      ],
      "text/plain": [
       "LogisticRegression(random_state=42)"
      ]
     },
     "execution_count": 35,
     "metadata": {},
     "output_type": "execute_result"
    }
   ],
   "source": [
    "# Run this cell without changes\n",
    "\n",
    "pca_model = LogisticRegression(random_state=42)\n",
    "pca_model"
   ]
  },
  {
   "cell_type": "markdown",
   "metadata": {},
   "source": [
    "Now, fit the model on `X_train_pca` instead of `X_train`, and evaluate it on `X_test_pca` instead of `X_test`."
   ]
  },
  {
   "cell_type": "code",
   "execution_count": 36,
   "metadata": {},
   "outputs": [
    {
     "name": "stdout",
     "output_type": "stream",
     "text": [
      "Model score with PCA: 0.9\n",
      "Baseline model score: 1.0\n",
      "\n",
      "Time taken with PCA: 0.015825510025024414\n",
      "Baseline time taken: 0.025261402130126953\n"
     ]
    }
   ],
   "source": [
    "# Replace None with appropriate code\n",
    "\n",
    "start = time.time()\n",
    "\n",
    "# Fit the model on the training data\n",
    "pca_model.fit(X_train_pca, y_train)\n",
    "\n",
    "# Score the model on the test data\n",
    "pca_model_score = pca_model.score(X_test_pca, y_test)\n",
    "\n",
    "end = time.time()\n",
    "pca_time_taken = end - start\n",
    "\n",
    "print(\"Model score with PCA:\", pca_model_score)\n",
    "print(\"Baseline model score:\", baseline_model_score)\n",
    "print()\n",
    "print(\"Time taken with PCA:\", pca_time_taken)\n",
    "print(\"Baseline time taken:\", baseline_time_taken)"
   ]
  },
  {
   "cell_type": "markdown",
   "metadata": {},
   "source": [
    "Although some accuracy is lost in this representation of the data, we were able to use half of the number of features to train the model! On average, this results in faster model fitting and predicting speeds.\n",
    "\n",
    "(Comparing execution time is inexact since it is based on the CPU load as well as all of the current processes running on your computer at the time, but generally you should see a lower time taken with PCA than the baseline. Try re-running the model fitting cells a couple times if you aren't seeing this.)\n",
    "\n",
    "This use case is a bit contrived (reducing 4 dimensions to 2 dimensions), but you can imagine how this might work if you reduced hundreds of dimensions down this way. We also are not seeing evidence of overfitting right now, but this could also help with overfitting on another dataset."
   ]
  },
  {
   "cell_type": "markdown",
   "metadata": {},
   "source": [
    "### Visualizing the Decision Boundaries\n",
    "\n",
    "One other useful aspect of applying PCA to reduce data to two dimensions is that it allows us to visualize our model's decision boundaries in two dimensions. Run the cell below to visualize how our model uses the two principal components:"
   ]
  },
  {
   "cell_type": "code",
   "execution_count": 37,
   "metadata": {},
   "outputs": [
    {
     "data": {
      "image/png": "[encoded data removed]",
      "text/plain": [
       "<Figure size 720x576 with 1 Axes>"
      ]
     },
     "metadata": {
      "needs_background": "light"
     },
     "output_type": "display_data"
    }
   ],
   "source": [
    "# Run this cell without changes\n",
    "import numpy as np\n",
    "\n",
    "# Combine all data into one df\n",
    "X_all_pca = pd.concat([pd.DataFrame(X_train_pca), pd.DataFrame(X_test_pca)], axis=0)\n",
    "X_all_pca.columns = [\"PC 1\", \"PC 2\"]\n",
    "X_all_pca[\"target\"] = pd.concat([y_train, y_test], axis=0).values\n",
    "\n",
    "# Set up figure and axes\n",
    "fig, ax = plt.subplots(figsize=(10, 8))\n",
    "ax.grid()\n",
    "\n",
    "# Scatter plot of all data points\n",
    "colors = [\"r\", \"g\", \"b\"] # Setting up colors again in case they were edited earlier\n",
    "for target_index in [0, 1, 2]:\n",
    "    subset_rows = X_all_pca[X_all_pca[\"target\"] == target_index]\n",
    "    ax.scatter(subset_rows[\"PC 1\"], subset_rows[\"PC 2\"], c=colors[target_index])\n",
    "\n",
    "# Get bounds and set step size for mesh grid\n",
    "x_min, x_max = ax.get_xlim()\n",
    "y_min, y_max = ax.get_ylim()\n",
    "h = 0.01\n",
    "\n",
    "# Build mesh grid\n",
    "xx, yy = np.meshgrid(np.arange(x_min, x_max, h), np.arange(y_min, y_max, h))\n",
    "Z = pca_model.predict(np.c_[xx.ravel(), yy.ravel()])\n",
    "Z = Z.reshape(xx.shape)\n",
    "\n",
    "# Plot filled contour\n",
    "ax.contourf(xx, yy, Z, alpha=0.25, cmap=\"gray\")\n",
    "\n",
    "# Customize labels\n",
    "ax.set_xlabel('First Principal Component ', fontsize = 15)\n",
    "ax.set_ylabel('Second Principal Component ', fontsize = 15)\n",
    "ax.set_title('PCA-Transformed Iris Dataset with Decision Boundaries', fontsize = 20)\n",
    "ax.legend(iris.target_names, fontsize=15);"
   ]
  },
  {
   "cell_type": "markdown",
   "metadata": {},
   "source": [
    "## BONUS: Manifold Dimensionality Reduction\n",
    "\n",
    "As mentioned previously, PCA is not the only technique for dimensionality reduction, although it is the only dimensionality reduction technique described in depth in our curriculum.\n",
    "\n",
    "Another major form of dimensionality reduction is *manifold learning*, which you can read about more in depth [here](https://scikit-learn.org/stable/modules/manifold.html).\n",
    "\n",
    "Here we'll have a quick demo of one type of manifold learning, isomap embedding ([documentation here](https://scikit-learn.org/stable/modules/generated/sklearn.manifold.Isomap.html)). Similar to PCA, isomap embedding creates components that can be plotted in 2D space."
   ]
  },
  {
   "cell_type": "code",
   "execution_count": 38,
   "metadata": {},
   "outputs": [
    {
     "name": "stdout",
     "output_type": "stream",
     "text": [
      "Model score with iso: 0.9333333333333333\n",
      "Model score with PCA: 0.9\n",
      "Baseline model score: 1.0\n",
      "\n",
      "Time taken with iso: 0.017789602279663086\n",
      "Time taken with PCA: 0.015825510025024414\n",
      "Baseline time taken: 0.025261402130126953\n"
     ]
    }
   ],
   "source": [
    "# Run this cell without changes\n",
    "\n",
    "from sklearn.manifold import Isomap\n",
    "\n",
    "iso = Isomap(n_components=2)\n",
    "\n",
    "iso.fit(X_train)\n",
    "\n",
    "X_train_iso = iso.transform(X_train)\n",
    "X_test_iso = iso.transform(X_test)\n",
    "\n",
    "iso_model = LogisticRegression()\n",
    "\n",
    "start = time.time()\n",
    "\n",
    "iso_model.fit(X_train_iso, y_train)\n",
    "iso_model_score = iso_model.score(X_test_iso, y_test)\n",
    "\n",
    "end = time.time()\n",
    "iso_time_taken = end - start\n",
    "\n",
    "print(\"Model score with iso:\", iso_model_score)\n",
    "print(\"Model score with PCA:\", pca_model_score)\n",
    "print(\"Baseline model score:\", baseline_model_score)\n",
    "print()\n",
    "print(\"Time taken with iso:\", iso_time_taken)\n",
    "print(\"Time taken with PCA:\", pca_time_taken)\n",
    "print(\"Baseline time taken:\", baseline_time_taken)"
   ]
  },
  {
   "cell_type": "markdown",
   "metadata": {},
   "source": [
    "As you can see, preprocessing with isomap embedding gets us slightly better performance than preprocessing with PCA with this particular dataset + model, while still being faster than the baseline.\n",
    "\n",
    "This plot shows the components from the isomap embedding as well as the new decision boundaries:"
   ]
  },
  {
   "cell_type": "code",
   "execution_count": 39,
   "metadata": {},
   "outputs": [
    {
     "data": {
      "image/png": "[encoded data removed]",
      "text/plain": [
       "<Figure size 720x576 with 1 Axes>"
      ]
     },
     "metadata": {
      "needs_background": "light"
     },
     "output_type": "display_data"
    }
   ],
   "source": [
    "# Run this cell without changes\n",
    "\n",
    "# Combine all data into one df\n",
    "X_all_iso = pd.concat([pd.DataFrame(X_train_iso), pd.DataFrame(X_test_iso)], axis=0)\n",
    "X_all_iso.columns = [\"Component 1\", \"Component 2\"]\n",
    "X_all_iso[\"target\"] = pd.concat([y_train, y_test], axis=0).values\n",
    "\n",
    "# Set up figure and axes\n",
    "fig, ax = plt.subplots(figsize=(10, 8))\n",
    "ax.grid()\n",
    "\n",
    "# Scatter plot of all data points\n",
    "colors = [\"r\", \"g\", \"b\"] # Setting up colors again in case they were edited earlier\n",
    "for target_index in [0, 1, 2]:\n",
    "    subset_rows = X_all_iso[X_all_iso[\"target\"] == target_index]\n",
    "    ax.scatter(subset_rows[\"Component 1\"], subset_rows[\"Component 2\"], c=colors[target_index])\n",
    "\n",
    "# Get bounds and set step size for mesh grid\n",
    "x_min, x_max = ax.get_xlim()\n",
    "y_min, y_max = ax.get_ylim()\n",
    "h = 0.01\n",
    "\n",
    "# Build mesh grid\n",
    "xx, yy = np.meshgrid(np.arange(x_min, x_max, h), np.arange(y_min, y_max, h))\n",
    "Z = iso_model.predict(np.c_[xx.ravel(), yy.ravel()])\n",
    "Z = Z.reshape(xx.shape)\n",
    "\n",
    "# Plot filled contour\n",
    "ax.contourf(xx, yy, Z, alpha=0.25, cmap=\"Greys\")\n",
    "\n",
    "# Customize labels\n",
    "ax.set_xlabel('First Component ', fontsize = 15)\n",
    "ax.set_ylabel('Second Component ', fontsize = 15)\n",
    "ax.set_title('Isometric Embedded Iris Dataset with Decision Boundaries', fontsize = 20)\n",
    "ax.legend(iris.target_names, fontsize=15);"
   ]
  },
  {
   "cell_type": "markdown",
   "metadata": {},
   "source": [
    "## Summary \n",
    "\n",
    "In this lab, you applied PCA to the popular Iris Dataset in the context of a machine learning workflow. You looked at the performance of a simple classifier and the impact of PCA on the accuracy of the model and the time it took to run the model. You also used both PCA and isometric embedding to view higher-dimensional data in two dimensions, as well as the associated classifier decision boundaries."
   ]
  }
 ],
 "metadata": {
  "anaconda-cloud": {},
  "kernelspec": {
   "display_name": "Python 3",
   "language": "python",
   "name": "python3"
  },
  "language_info": {
   "codemirror_mode": {
    "name": "ipython",
    "version": 3
   },
   "file_extension": ".py",
   "mimetype": "text/x-python",
   "name": "python",
   "nbconvert_exporter": "python",
   "pygments_lexer": "ipython3",
   "version": "3.8.5"
  },
  "toc": {
   "base_numbering": 1,
   "nav_menu": {},
   "number_sections": true,
   "sideBar": true,
   "skip_h1_title": false,
   "title_cell": "Table of Contents",
   "title_sidebar": "Contents",
   "toc_cell": false,
   "toc_position": {},
   "toc_section_display": true,
   "toc_window_display": false
  }
 },
 "nbformat": 4,
 "nbformat_minor": 1
}
